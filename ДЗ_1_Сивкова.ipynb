{
 "cells": [
  {
   "cell_type": "markdown",
   "metadata": {},
   "source": [
    "Задание 1"
   ]
  },
  {
   "cell_type": "code",
   "execution_count": 1,
   "metadata": {},
   "outputs": [
    {
     "data": {
      "text/plain": [
       "True"
      ]
     },
     "execution_count": 1,
     "metadata": {},
     "output_type": "execute_result"
    }
   ],
   "source": [
    "long_phrase = 'Насколько проще было бы писать программы, если бы не заказчики'\n",
    "short_phrase = '640Кб должно хватить для любых задач. Билл Гейтс (по легенде)'\n",
    "len (long_phrase)> len (short_phrase)"
   ]
  },
  {
   "cell_type": "markdown",
   "metadata": {},
   "source": [
    "Задание 2"
   ]
  },
  {
   "cell_type": "code",
   "execution_count": 11,
   "metadata": {},
   "outputs": [
    {
     "name": "stdout",
     "output_type": "stream",
     "text": [
      "Введите размер файла в байтах 24668214\n",
      "Объем файла равен 23.53 Mb\n"
     ]
    }
   ],
   "source": [
    "#file_size = 15287\n",
    "file_size = input('Введите размер файла в байтах ')\n",
    "print('Объем файла равен',round ((int(file_size)/(1024*1024)), 2),'Mb')"
   ]
  },
  {
   "cell_type": "markdown",
   "metadata": {},
   "source": [
    "Задание 3"
   ]
  },
  {
   "cell_type": "code",
   "execution_count": 4,
   "metadata": {},
   "outputs": [
    {
     "name": "stdout",
     "output_type": "stream",
     "text": [
      "Введите месяц рождения июль\n",
      "Введите число рождения 26\n",
      "Вывод - Лев\n"
     ]
    }
   ],
   "source": [
    "month = input('Введите месяц рождения ')\n",
    "day = input('Введите число рождения ')\n",
    "if (str(month) == 'декабрь' and int(day) >= 22) or (str(month) == 'январь' and int(day) <= 19):\n",
    "    print('Вывод - Козерог')\n",
    "elif (str(month) == 'январь' and int(day) >= 20) or (str(month) == 'февраль' and int(day) <= 19):\n",
    "    print('Вывод - Водолей')\n",
    "elif (str(month) == 'февраль' and int(day) >= 20) or (str(month) == 'март' and int(day) <= 21):\n",
    "    print('Вывод - Рыбы')\n",
    "elif (str(month) == 'март' and int(day) >= 22) or (str(month) == 'апрель' and int(day) <= 21):\n",
    "    print('Вывод - Овен')\n",
    "elif (str(month) == 'апрель' and int(day) >= 22) or (str(month) == 'май' and int(day) <= 21):\n",
    "    print('Вывод - Телец')\n",
    "elif (str(month) == 'май' and int(day) >= 22) or (str(month) == 'июнь' and int(day) <= 21):\n",
    "    print('Вывод - Близнецы')\n",
    "elif (str(month) == 'июнь' and int(day) >= 22) or (str(month) == 'июль' and int(day) <= 21):\n",
    "    print('Вывод - Рак')\n",
    "elif (str(month) == 'июль' and int(day) >= 22) or (str(month) == 'август' and int(day) <= 21):\n",
    "    print('Вывод - Лев')\n",
    "elif (str(month) == 'август' and int(day) >= 22) or (str(month) == 'сентябрь' and int(day) <= 21):\n",
    "    print('Вывод - Дева')\n",
    "elif (str(month) == 'сентябрь' and int(day) >= 22) or (str(month) == 'октябрь' and int(day) <= 21):\n",
    "    print('Вывод - Весы')\n",
    "elif (str(month) == 'октябрь' and int(day) >= 22) or (str(month) == 'ноябрь' and int(day) <= 20):\n",
    "    print('Вывод - Скорпион')\n",
    "else: \n",
    "    print('Вывод - Стрелец')"
   ]
  },
  {
   "cell_type": "markdown",
   "metadata": {},
   "source": [
    "Задание 4"
   ]
  },
  {
   "cell_type": "code",
   "execution_count": 5,
   "metadata": {},
   "outputs": [
    {
     "name": "stdout",
     "output_type": "stream",
     "text": [
      "Введите заработную плату за месяц 50000\n",
      "Сколько процентов уходит на ипотеку 40\n",
      "Сколько процентов уходит на жизнь 60\n",
      "Введите количество премий за год 2\n",
      "На ипотеку было потрачено  240000.0\n",
      "Было накоплено  50000.0\n"
     ]
    }
   ],
   "source": [
    "salary = input('Введите заработную плату за месяц ')\n",
    "mortgage = input('Сколько процентов уходит на ипотеку ')\n",
    "for_living = input('Сколько процентов уходит на жизнь ')\n",
    "prize = input('Введите количество премий за год ')\n",
    "\n",
    "all_salary = int(salary)*12\n",
    "spending = (all_salary*int(for_living)/100)+(all_salary*int(mortgage)/100)\n",
    "\n",
    "print('На ипотеку было потрачено ', all_salary*int(mortgage)/100)\n",
    "print('Было накоплено ', (all_salary-spending)+(int(salary)*int(prize)/2))"
   ]
  }
 ],
 "metadata": {
  "kernelspec": {
   "display_name": "Python 3",
   "language": "python",
   "name": "python3"
  },
  "language_info": {
   "codemirror_mode": {
    "name": "ipython",
    "version": 3
   },
   "file_extension": ".py",
   "mimetype": "text/x-python",
   "name": "python",
   "nbconvert_exporter": "python",
   "pygments_lexer": "ipython3",
   "version": "3.7.4"
  }
 },
 "nbformat": 4,
 "nbformat_minor": 2
}
